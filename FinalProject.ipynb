{
  "metadata": {
    "language_info": {
      "codemirror_mode": {
        "name": "python",
        "version": 3
      },
      "file_extension": ".py",
      "mimetype": "text/x-python",
      "name": "python",
      "nbconvert_exporter": "python",
      "pygments_lexer": "ipython3",
      "version": "3.8"
    },
    "kernelspec": {
      "name": "python",
      "display_name": "Pyolite",
      "language": "python"
    }
  },
  "nbformat_minor": 4,
  "nbformat": 4,
  "cells": [
    {
      "cell_type": "markdown",
      "source": "# \"My Jupyter Notebook on IBM Watson Studio\"",
      "metadata": {}
    },
    {
      "cell_type": "markdown",
      "source": "**Stijn Auee**\nCurrently unemployed, hopefully environmental scientist.",
      "metadata": {}
    },
    {
      "cell_type": "markdown",
      "source": "*I am interested in data science, because I want to be able to be argumentative based on data. It is very interesting to be able to understand data and make conclusiosn because of it.* ",
      "metadata": {}
    },
    {
      "cell_type": "markdown",
      "source": "### \"My code below, creates two variables and print the two together\"",
      "metadata": {}
    },
    {
      "cell_type": "code",
      "source": "x1 = 2\nx2 = 5\nprint(x1+x2)",
      "metadata": {},
      "execution_count": null,
      "outputs": []
    },
    {
      "cell_type": "markdown",
      "source": "<a href=\"https://dataplatform.cloud.ibm.com/gallery\">IBM Cloud Gallery</a>\n| header | header |\n| ------ | ------ |\n| cell | cell |\n1. This is the first item on the list.\n2. This is the second item on tne list.\n1. This is the third item on the list.",
      "metadata": {}
    }
  ]
}